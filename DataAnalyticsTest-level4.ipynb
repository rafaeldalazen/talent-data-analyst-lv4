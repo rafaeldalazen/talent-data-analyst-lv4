{
 "cells": [
  {
   "cell_type": "markdown",
   "id": "9eec3119",
   "metadata": {},
   "source": [
    "# ST IT Cloud - Data and Analytics Test LV.4\n",
    "\n",
    "Esse teste deve avaliar alguns conceitos de big data e a qualidade técnica na manipulacão de dados, otimização de performance, trabalho com arquivos grandes e tratamento de qualidade.\n",
    "\n",
    "## Passo a passo\n",
    "\n",
    "-Disponibilizamos aqui 2 cases para serem desenvolvidos, leia os enunciados dos problemas, desenvolver os programas, utilizando a **stack definida durante o processo seletivo**, para entregar os dados de acordo com os requisitos descritos abaixo.\n",
    "\n",
    "**Faz parte dos critérios de avaliacão a pontualidade da entrega. Implemente até onde for possível dentro do prazo acordado.**\n",
    "\n",
    "**Os dados de pessoas foram gerados de forma aleatória, utilizando a biblioteca FakerJS, FakerJS-BR e Faker**\n",
    "\n",
    "LEMBRE-SE: A entrega deve conter TODOS os passos para o avaliador executar o programa (keep it simple).\n"
   ]
  },
  {
   "cell_type": "markdown",
   "id": "1eb61f06",
   "metadata": {},
   "source": [
    "# TESTE PRÁTICO"
   ]
  },
  {
   "cell_type": "markdown",
   "id": "8ed8c6a5",
   "metadata": {},
   "source": [
    "**Problema 1**: Você está recebendo o arquivo 'dados_cadastrais_fake.csv' que contem dados cadastrais de clientes, mas para que análises ou relatórios sejam feitos é necessário limpar e normalizar os dados. Além disso, existe uma coluna com o número de cpf e outra com cnpj, você precisará padronizar deixando apenas dígitos em formato string (sem caracteres especiais), implementar uma forma de verificar se tais documentos são válidos sendo que a informação deve se adicionada ao dataframe em outras duas novas colunas.\n",
    "\n",
    "Após a normalização, gere reports que respondam as seguintes perguntas:\n",
    "- Quantos clientes temos nessa base?\n",
    "- Qual a média de idade dos clientes?\n",
    "- Quantos clientes nessa base pertencem a cada estado?\n",
    "- Quantos CPFs válidos e inválidos foram encontrados?\n",
    "- Quantos CNPJs válidos e inválidos foram encontrados?\n",
    "\n",
    "Ao final gere um arquivo no formato csv e um outro arquivo no formato parquet chamado (problema1_normalizado), eles serão destinados para pessoas distintas.\n"
   ]
  },
  {
   "cell_type": "markdown",
   "id": "ed58a0f8",
   "metadata": {},
   "source": [
    "#### Módulos Python"
   ]
  },
  {
   "cell_type": "code",
   "execution_count": 246,
   "id": "8bed6931",
   "metadata": {},
   "outputs": [
    {
     "name": "stdout",
     "output_type": "stream",
     "text": [
      "Requirement already satisfied: unidecode in c:\\users\\engda\\appdata\\local\\programs\\python\\python310\\lib\\site-packages (1.3.4)\n",
      "Note: you may need to restart the kernel to use updated packages.\n"
     ]
    },
    {
     "name": "stderr",
     "output_type": "stream",
     "text": [
      "WARNING: There was an error checking the latest version of pip.\n"
     ]
    },
    {
     "name": "stdout",
     "output_type": "stream",
     "text": [
      "Requirement already satisfied: fastparquet in c:\\users\\engda\\appdata\\local\\programs\\python\\python310\\lib\\site-packages (0.8.1)\n",
      "Requirement already satisfied: fsspec in c:\\users\\engda\\appdata\\local\\programs\\python\\python310\\lib\\site-packages (from fastparquet) (2022.7.1)\n",
      "Requirement already satisfied: numpy>=1.18 in c:\\users\\engda\\appdata\\local\\programs\\python\\python310\\lib\\site-packages (from fastparquet) (1.23.1)\n",
      "Requirement already satisfied: cramjam>=2.3.0 in c:\\users\\engda\\appdata\\local\\programs\\python\\python310\\lib\\site-packages (from fastparquet) (2.5.0)\n",
      "Requirement already satisfied: pandas>=1.1.0 in c:\\users\\engda\\appdata\\local\\programs\\python\\python310\\lib\\site-packages (from fastparquet) (1.4.3)\n",
      "Requirement already satisfied: python-dateutil>=2.8.1 in c:\\users\\engda\\appdata\\local\\programs\\python\\python310\\lib\\site-packages (from pandas>=1.1.0->fastparquet) (2.8.2)\n",
      "Requirement already satisfied: pytz>=2020.1 in c:\\users\\engda\\appdata\\local\\programs\\python\\python310\\lib\\site-packages (from pandas>=1.1.0->fastparquet) (2022.1)\n",
      "Requirement already satisfied: six>=1.5 in c:\\users\\engda\\appdata\\local\\programs\\python\\python310\\lib\\site-packages (from python-dateutil>=2.8.1->pandas>=1.1.0->fastparquet) (1.16.0)\n",
      "Note: you may need to restart the kernel to use updated packages.\n"
     ]
    },
    {
     "name": "stderr",
     "output_type": "stream",
     "text": [
      "WARNING: There was an error checking the latest version of pip.\n"
     ]
    }
   ],
   "source": [
    "%pip install unidecode\n",
    "%pip install fastparquet"
   ]
  },
  {
   "cell_type": "code",
   "execution_count": 247,
   "id": "378c45b9",
   "metadata": {},
   "outputs": [],
   "source": [
    "from unidecode  import unidecode\n",
    "import pandas as pd\n",
    "import csv\n",
    "import re"
   ]
  },
  {
   "cell_type": "markdown",
   "id": "d71ba707",
   "metadata": {},
   "source": [
    "#### CSV Path"
   ]
  },
  {
   "cell_type": "code",
   "execution_count": 248,
   "id": "bb0de524",
   "metadata": {},
   "outputs": [],
   "source": [
    "dados_csv = \"dados_cadastrais_fake.csv\""
   ]
  },
  {
   "cell_type": "markdown",
   "id": "0a797e67",
   "metadata": {},
   "source": [
    "#### VARIÁVEIS GLOBAIS"
   ]
  },
  {
   "cell_type": "code",
   "execution_count": 249,
   "id": "ea1ef512",
   "metadata": {},
   "outputs": [],
   "source": [
    "LEN_CPF = [10,11]\n",
    "LEN_CNPJ = 14"
   ]
  },
  {
   "cell_type": "code",
   "execution_count": 250,
   "id": "f34bb3d4",
   "metadata": {},
   "outputs": [],
   "source": [
    "REGEX_CPF = r'([0-9]{2}.[0-9]{3}.[0-9]{3}-[0-9]{2})|([0-9]{3}.[0-9]{3}.[0-9]{3}-[0-9]{2})'\n",
    "REGEX_CNPJ = r'([0-9]{2}.[0-9]{3}.[0-9]{3}/[0-9]{4}-[0-9]{2})'\n",
    "REGEX_FINAL = r'[^0-9]'"
   ]
  },
  {
   "cell_type": "markdown",
   "id": "e361087e",
   "metadata": {},
   "source": [
    "#### DICT DE UF"
   ]
  },
  {
   "cell_type": "code",
   "execution_count": 251,
   "id": "5d99b0e0",
   "metadata": {},
   "outputs": [],
   "source": [
    "DICT_UF = {\n",
    "    'RO' : 'RONDONIA',\n",
    "    'AC' : 'ACRE',\n",
    "    'AM' : 'AMAZONAS',\n",
    "    'RR' : 'RORAIMA',\n",
    "    'PA' : 'PARA',\n",
    "    'AP' : 'AMAPA',\n",
    "    'TO' : 'TOCANTIS',\n",
    "    'MA' : 'MARANHAO',\n",
    "    'PI' : 'PIAUI',\n",
    "    'CE' : 'CEARA',\n",
    "    'RN' : 'RIO GRANDE DO NORTE',\n",
    "    'PB' : 'PARAIBA',\n",
    "    'PE' : 'PERNAMBUCO',\n",
    "    'AL' : 'ALAGOAS',\n",
    "    'SE' : 'SERGIPE',\n",
    "    'BA' : 'BAHIA',\n",
    "    'MG' : 'MINAS GERAIS',\n",
    "    'ES' : 'ESPIRITO SANTO',\n",
    "    'RJ' : 'RIO DE JANEIRO',\n",
    "    'SP' : 'SAO PAULO',\n",
    "    'PR' : 'PARANA',\n",
    "    'SC' : 'SANTA CATARINA',\n",
    "    'RS' : 'RIO GRANDE DO SUL',\n",
    "    'MS' : 'MATO GROSSO DO SUL',\n",
    "    'MT' : 'MATO GROSSO',\n",
    "    'GO' : 'GOIAS',\n",
    "    'DF' : 'DISTRITO FEDERAL'\n",
    "}"
   ]
  },
  {
   "cell_type": "markdown",
   "id": "d7dd492f",
   "metadata": {},
   "source": [
    "#### FUNÇÕES DE PROCESSAMENTO"
   ]
  },
  {
   "cell_type": "code",
   "execution_count": 252,
   "id": "c6a9444d",
   "metadata": {},
   "outputs": [],
   "source": [
    "def set_csvfile_to_dataframe(file_path):\n",
    "    df = pd.read_csv(file_path, \n",
    "                     delimiter=';', \n",
    "                     quoting=csv.QUOTE_NONE,  \n",
    "                     warn_bad_lines=True)\n",
    "    \n",
    "    return df"
   ]
  },
  {
   "cell_type": "code",
   "execution_count": 253,
   "id": "37bb5537",
   "metadata": {},
   "outputs": [],
   "source": [
    "def set_csvfile_to_parquet(df_in):\n",
    "    df_in.to_parquet('problema1_normalizado.parquet.gzip',compression='gzip')"
   ]
  },
  {
   "cell_type": "code",
   "execution_count": 254,
   "id": "76db8b67",
   "metadata": {},
   "outputs": [],
   "source": [
    "def set_regex_to_clean_str(data_in):\n",
    "    if type(data_in) == str:\n",
    "        data_str = data_in.upper()\n",
    "    else:\n",
    "        data_str = str(data_in.upper())\n",
    "    return re.sub(REGEX_FINAL, \"\", data_str)"
   ]
  },
  {
   "cell_type": "code",
   "execution_count": 255,
   "id": "a904adc6",
   "metadata": {},
   "outputs": [],
   "source": [
    "def set_unidecode_to_str(data_in):\n",
    "    if type(data_in) == str:\n",
    "        data_str = data_in.upper()\n",
    "    else:\n",
    "        data_str = str(data_in.upper())\n",
    "    return unidecode(data_str)"
   ]
  },
  {
   "cell_type": "code",
   "execution_count": 256,
   "id": "d85493f6",
   "metadata": {},
   "outputs": [],
   "source": [
    "def is_cpf_valid(data_in):\n",
    "    if type(data_in) == str:\n",
    "        data_str = data_in.upper()\n",
    "    else:\n",
    "        data_str = str(data_in.upper())\n",
    "    \n",
    "    if re.search(REGEX_CPF, data_str):\n",
    "        data_str_clean = set_regex_to_clean_str(data_str)\n",
    "        if len(data_str_clean) in LEN_CPF:\n",
    "            return True\n",
    "        else:\n",
    "            return False\n",
    "    else:\n",
    "        return False"
   ]
  },
  {
   "cell_type": "code",
   "execution_count": 257,
   "id": "b411137a",
   "metadata": {},
   "outputs": [],
   "source": [
    "def is_cnpj_valid(data_in):\n",
    "    if type(data_in) == str:\n",
    "        data_str = data_in.upper()\n",
    "    else:\n",
    "        data_str = str(data_in.upper())\n",
    "    \n",
    "    if re.search(REGEX_CNPJ, data_str):\n",
    "        data_str_clean = set_regex_to_clean_str(data_str)\n",
    "        if len(data_str_clean) == LEN_CNPJ:\n",
    "            return True\n",
    "        else:\n",
    "            return False\n",
    "    else:\n",
    "        return False"
   ]
  },
  {
   "cell_type": "code",
   "execution_count": 258,
   "id": "38f5d250",
   "metadata": {},
   "outputs": [],
   "source": [
    "def set_uf_adjust (data_in):\n",
    "    uf_list = list(DICT_UF.keys())\n",
    "    if type(data_in) == str:\n",
    "        data_str = data_in.upper()\n",
    "    else:\n",
    "        data_str = str(data_in.upper())\n",
    "    \n",
    "    if data_str not in uf_list:\n",
    "        for uf in uf_list:\n",
    "            if (DICT_UF[uf] == data_str)\\\n",
    "               |(DICT_UF[uf] in data_str)\\\n",
    "                |(data_str in DICT_UF[uf]):\n",
    "        \n",
    "                return uf\n",
    "        return None\n",
    "    else:\n",
    "        return data_str"
   ]
  },
  {
   "cell_type": "code",
   "execution_count": 259,
   "id": "79d27613",
   "metadata": {},
   "outputs": [],
   "source": [
    "def set_dataset_normalization (data_in):\n",
    "    data_in['nomes']  = data_in['nomes'].astype(str)\n",
    "    data_in['cidade'] = data_in['cidade'].astype(str)\n",
    "    data_in['estado'] = data_in['estado'].astype(str)\n",
    "    data_in['cpf']    = data_in['cpf'].astype(str)\n",
    "    data_in['cnpj']   = data_in['cnpj'].astype(str)\n",
    "\n",
    "    data_in['nomes']  = data_in['nomes'].apply(set_unidecode_to_str)\n",
    "    data_in['cidade'] = data_in['cidade'].apply(set_unidecode_to_str)\n",
    "    data_in['estado'] = data_in['estado'].apply(set_unidecode_to_str)\n",
    "\n",
    "    data_in['estado'] = data_in['estado'].apply(set_uf_adjust)\n",
    "\n",
    "    data_in['nomes']  = data_in['nomes'].str.upper()\n",
    "    data_in['cidade'] = data_in['cidade'].str.upper()\n",
    "    data_in['estado'] = data_in['estado'].str.upper()\n",
    "\n",
    "    data_in['cpf_valido']  = data_in['cpf'].apply(is_cpf_valid)\n",
    "    data_in['cnpj_valido'] = data_in['cnpj'].apply(is_cnpj_valid)\n",
    "\n",
    "    data_in['cpf']  = data_in['cpf'].apply(set_regex_to_clean_str)\n",
    "    data_in['cnpj'] = data_in['cnpj'].apply(set_regex_to_clean_str)\n",
    "\n",
    "    data_in = data_in.drop_duplicates()\n",
    "    return data_in"
   ]
  },
  {
   "cell_type": "code",
   "execution_count": 260,
   "id": "a5e7b344",
   "metadata": {},
   "outputs": [],
   "source": [
    "def get_age_mean_col (df_in):\n",
    "    return df_in['idade'].mean(axis = 0, skipna = False)"
   ]
  },
  {
   "cell_type": "code",
   "execution_count": 261,
   "id": "53e6e409",
   "metadata": {},
   "outputs": [],
   "source": [
    "def get_count_customers (df_in):\n",
    "    df_cpf = df_in['cpf'].drop_duplicates()\n",
    "    return len(df_cpf)"
   ]
  },
  {
   "cell_type": "code",
   "execution_count": 262,
   "id": "452b6752",
   "metadata": {},
   "outputs": [],
   "source": [
    "def get_count_estado (df_in):\n",
    "    df_est = df_in.groupby(['estado']).size()\n",
    "    return df_est"
   ]
  },
  {
   "cell_type": "code",
   "execution_count": 263,
   "id": "86a052ba",
   "metadata": {},
   "outputs": [],
   "source": [
    "def get_count_cpf_valido (df_in):\n",
    "    df_cpf = df_in[df_in['cpf_valido'] == True]\n",
    "    count = len(df_cpf)\n",
    "    return count"
   ]
  },
  {
   "cell_type": "code",
   "execution_count": 264,
   "id": "fcee84fd",
   "metadata": {},
   "outputs": [],
   "source": [
    "def get_count_cpf_invalido (df_in):\n",
    "    df_cpf = df_in[df_in['cpf_valido'] == False]\n",
    "    count = len(df_cpf)\n",
    "    return count"
   ]
  },
  {
   "cell_type": "code",
   "execution_count": 265,
   "id": "8d84a7ef",
   "metadata": {},
   "outputs": [],
   "source": [
    "def get_count_cnpj_valido (df_in):\n",
    "    df_cnpj = df_in[df_in['cnpj_valido'] == True]\n",
    "    count = len(df_cnpj)\n",
    "    return count"
   ]
  },
  {
   "cell_type": "code",
   "execution_count": 266,
   "id": "fbb628e8",
   "metadata": {},
   "outputs": [],
   "source": [
    "def get_count_cnpj_invalido (df_in):\n",
    "    df_cnpj = df_in[df_in['cnpj_valido'] == False]\n",
    "    count = len(df_cnpj)\n",
    "    return count"
   ]
  },
  {
   "cell_type": "markdown",
   "id": "4dd38a92",
   "metadata": {},
   "source": [
    "#### GERAÇÃO DE DF NORMALIZADO"
   ]
  },
  {
   "cell_type": "code",
   "execution_count": 267,
   "id": "f40ce679",
   "metadata": {},
   "outputs": [
    {
     "name": "stderr",
     "output_type": "stream",
     "text": [
      "C:\\Users\\engda\\AppData\\Local\\Temp\\ipykernel_103080\\3380420549.py:2: FutureWarning: The warn_bad_lines argument has been deprecated and will be removed in a future version. Use on_bad_lines in the future.\n",
      "\n",
      "\n",
      "  df = pd.read_csv(file_path,\n"
     ]
    },
    {
     "data": {
      "text/html": [
       "<div>\n",
       "<style scoped>\n",
       "    .dataframe tbody tr th:only-of-type {\n",
       "        vertical-align: middle;\n",
       "    }\n",
       "\n",
       "    .dataframe tbody tr th {\n",
       "        vertical-align: top;\n",
       "    }\n",
       "\n",
       "    .dataframe thead th {\n",
       "        text-align: right;\n",
       "    }\n",
       "</style>\n",
       "<table border=\"1\" class=\"dataframe\">\n",
       "  <thead>\n",
       "    <tr style=\"text-align: right;\">\n",
       "      <th></th>\n",
       "      <th>nomes</th>\n",
       "      <th>idade</th>\n",
       "      <th>cidade</th>\n",
       "      <th>estado</th>\n",
       "      <th>cpf</th>\n",
       "      <th>cnpj</th>\n",
       "      <th>cpf_valido</th>\n",
       "      <th>cnpj_valido</th>\n",
       "    </tr>\n",
       "  </thead>\n",
       "  <tbody>\n",
       "    <tr>\n",
       "      <th>0</th>\n",
       "      <td>DENNIS DANIELS</td>\n",
       "      <td>31</td>\n",
       "      <td>ACRELANDIA</td>\n",
       "      <td>AC</td>\n",
       "      <td>97566536800</td>\n",
       "      <td>06589184909526</td>\n",
       "      <td>False</td>\n",
       "      <td>False</td>\n",
       "    </tr>\n",
       "    <tr>\n",
       "      <th>1</th>\n",
       "      <td>LEAH BECKER</td>\n",
       "      <td>42</td>\n",
       "      <td>AGUA BRANCA</td>\n",
       "      <td>AL</td>\n",
       "      <td>42526380707</td>\n",
       "      <td>25673336235020</td>\n",
       "      <td>True</td>\n",
       "      <td>True</td>\n",
       "    </tr>\n",
       "    <tr>\n",
       "      <th>2</th>\n",
       "      <td>SALLY FORD</td>\n",
       "      <td>18</td>\n",
       "      <td>ALVARAES</td>\n",
       "      <td>AM</td>\n",
       "      <td>34647754103</td>\n",
       "      <td>26543101702989</td>\n",
       "      <td>False</td>\n",
       "      <td>False</td>\n",
       "    </tr>\n",
       "    <tr>\n",
       "      <th>3</th>\n",
       "      <td>COLLEEN DUNCAN</td>\n",
       "      <td>21</td>\n",
       "      <td>SERRA DO NAVIO</td>\n",
       "      <td>AP</td>\n",
       "      <td>25253156003</td>\n",
       "      <td>19062080510098</td>\n",
       "      <td>True</td>\n",
       "      <td>True</td>\n",
       "    </tr>\n",
       "    <tr>\n",
       "      <th>4</th>\n",
       "      <td>JEFF STEPHENSON</td>\n",
       "      <td>73</td>\n",
       "      <td>ABAIRA</td>\n",
       "      <td>BA</td>\n",
       "      <td>49668886542</td>\n",
       "      <td>97794530015384</td>\n",
       "      <td>False</td>\n",
       "      <td>False</td>\n",
       "    </tr>\n",
       "    <tr>\n",
       "      <th>...</th>\n",
       "      <td>...</td>\n",
       "      <td>...</td>\n",
       "      <td>...</td>\n",
       "      <td>...</td>\n",
       "      <td>...</td>\n",
       "      <td>...</td>\n",
       "      <td>...</td>\n",
       "      <td>...</td>\n",
       "    </tr>\n",
       "    <tr>\n",
       "      <th>9995</th>\n",
       "      <td>REBEKAH MITCHELL PHD</td>\n",
       "      <td>55</td>\n",
       "      <td>ABAIARA</td>\n",
       "      <td>CE</td>\n",
       "      <td>74482262234</td>\n",
       "      <td>16740076932975</td>\n",
       "      <td>True</td>\n",
       "      <td>True</td>\n",
       "    </tr>\n",
       "    <tr>\n",
       "      <th>9996</th>\n",
       "      <td>LISA PARRISH JR.</td>\n",
       "      <td>73</td>\n",
       "      <td>BRASILIA</td>\n",
       "      <td>DF</td>\n",
       "      <td>10683395190</td>\n",
       "      <td>32246978843482</td>\n",
       "      <td>False</td>\n",
       "      <td>False</td>\n",
       "    </tr>\n",
       "    <tr>\n",
       "      <th>9997</th>\n",
       "      <td>MICHAEL YOUNG MD</td>\n",
       "      <td>87</td>\n",
       "      <td>AFONSO CLAUDIO</td>\n",
       "      <td>ES</td>\n",
       "      <td>53822363804</td>\n",
       "      <td>86601303758088</td>\n",
       "      <td>True</td>\n",
       "      <td>True</td>\n",
       "    </tr>\n",
       "    <tr>\n",
       "      <th>9998</th>\n",
       "      <td>KEVIN WATSON DDS</td>\n",
       "      <td>82</td>\n",
       "      <td>ABADIA DE GOIAS</td>\n",
       "      <td>GO</td>\n",
       "      <td>11632512408</td>\n",
       "      <td>08651414023648</td>\n",
       "      <td>False</td>\n",
       "      <td>False</td>\n",
       "    </tr>\n",
       "    <tr>\n",
       "      <th>9999</th>\n",
       "      <td>MR. JOSEPH WILSON MD</td>\n",
       "      <td>50</td>\n",
       "      <td>ACAILANDIA</td>\n",
       "      <td>MA</td>\n",
       "      <td>19213449208</td>\n",
       "      <td>08908871516191</td>\n",
       "      <td>True</td>\n",
       "      <td>True</td>\n",
       "    </tr>\n",
       "  </tbody>\n",
       "</table>\n",
       "<p>10000 rows × 8 columns</p>\n",
       "</div>"
      ],
      "text/plain": [
       "                     nomes  idade           cidade estado          cpf  \\\n",
       "0           DENNIS DANIELS     31       ACRELANDIA     AC  97566536800   \n",
       "1              LEAH BECKER     42      AGUA BRANCA     AL  42526380707   \n",
       "2               SALLY FORD     18         ALVARAES     AM  34647754103   \n",
       "3           COLLEEN DUNCAN     21   SERRA DO NAVIO     AP  25253156003   \n",
       "4          JEFF STEPHENSON     73           ABAIRA     BA  49668886542   \n",
       "...                    ...    ...              ...    ...          ...   \n",
       "9995  REBEKAH MITCHELL PHD     55          ABAIARA     CE  74482262234   \n",
       "9996      LISA PARRISH JR.     73         BRASILIA     DF  10683395190   \n",
       "9997      MICHAEL YOUNG MD     87   AFONSO CLAUDIO     ES  53822363804   \n",
       "9998      KEVIN WATSON DDS     82  ABADIA DE GOIAS     GO  11632512408   \n",
       "9999  MR. JOSEPH WILSON MD     50       ACAILANDIA     MA  19213449208   \n",
       "\n",
       "                cnpj  cpf_valido  cnpj_valido  \n",
       "0     06589184909526       False        False  \n",
       "1     25673336235020        True         True  \n",
       "2     26543101702989       False        False  \n",
       "3     19062080510098        True         True  \n",
       "4     97794530015384       False        False  \n",
       "...              ...         ...          ...  \n",
       "9995  16740076932975        True         True  \n",
       "9996  32246978843482       False        False  \n",
       "9997  86601303758088        True         True  \n",
       "9998  08651414023648       False        False  \n",
       "9999  08908871516191        True         True  \n",
       "\n",
       "[10000 rows x 8 columns]"
      ]
     },
     "execution_count": 267,
     "metadata": {},
     "output_type": "execute_result"
    }
   ],
   "source": [
    "df_csv = set_csvfile_to_dataframe(dados_csv)\n",
    "df_csv_norm = set_dataset_normalization(df_csv)\n",
    "df_csv_norm"
   ]
  },
  {
   "cell_type": "markdown",
   "id": "96a133df",
   "metadata": {},
   "source": [
    "#### GERAÇÃO DE PARQUET"
   ]
  },
  {
   "cell_type": "code",
   "execution_count": 268,
   "id": "e88a0385",
   "metadata": {},
   "outputs": [],
   "source": [
    "set_csvfile_to_parquet(df_csv_norm)"
   ]
  },
  {
   "cell_type": "markdown",
   "id": "936d521d",
   "metadata": {},
   "source": [
    "#### MÉTRICAS"
   ]
  },
  {
   "cell_type": "markdown",
   "id": "63c3efd4",
   "metadata": {},
   "source": [
    "##### 1) MÉDIA DE IDADE"
   ]
  },
  {
   "cell_type": "code",
   "execution_count": 269,
   "id": "01a5affd",
   "metadata": {},
   "outputs": [
    {
     "data": {
      "text/plain": [
       "53.7831"
      ]
     },
     "execution_count": 269,
     "metadata": {},
     "output_type": "execute_result"
    }
   ],
   "source": [
    "age_mean = get_age_mean_col(df_csv_norm)\n",
    "age_mean"
   ]
  },
  {
   "cell_type": "markdown",
   "id": "6a0afc14",
   "metadata": {},
   "source": [
    "##### 2) QUANTIDADE DE CLIENTES"
   ]
  },
  {
   "cell_type": "code",
   "execution_count": 270,
   "id": "aa87117b",
   "metadata": {},
   "outputs": [
    {
     "data": {
      "text/plain": [
       "10000"
      ]
     },
     "execution_count": 270,
     "metadata": {},
     "output_type": "execute_result"
    }
   ],
   "source": [
    "count_cust = get_count_customers (df_csv_norm)\n",
    "count_cust"
   ]
  },
  {
   "cell_type": "markdown",
   "id": "614942c2",
   "metadata": {},
   "source": [
    "##### 3) QUANTIDADE DE REGISTROS POR ESTADO"
   ]
  },
  {
   "cell_type": "code",
   "execution_count": 271,
   "id": "698eb594",
   "metadata": {},
   "outputs": [
    {
     "data": {
      "text/plain": [
       "estado\n",
       "AC    371\n",
       "AL    371\n",
       "AM    371\n",
       "AP    371\n",
       "BA    371\n",
       "CE    371\n",
       "DF    371\n",
       "ES    371\n",
       "GO    371\n",
       "MA    371\n",
       "MG    370\n",
       "MS    370\n",
       "MT    370\n",
       "PA    370\n",
       "PB    370\n",
       "PE    370\n",
       "PI    370\n",
       "PR    370\n",
       "RJ    355\n",
       "RN    370\n",
       "RO    370\n",
       "RR    370\n",
       "RS    370\n",
       "SC    370\n",
       "SE    370\n",
       "SP    364\n",
       "TO    370\n",
       "dtype: int64"
      ]
     },
     "execution_count": 271,
     "metadata": {},
     "output_type": "execute_result"
    }
   ],
   "source": [
    "df_count_estado = get_count_estado (df_csv_norm)\n",
    "df_count_estado"
   ]
  },
  {
   "cell_type": "markdown",
   "id": "b0ecc8e6",
   "metadata": {},
   "source": [
    "##### 4) QUANTIDADE DE CPF VÁLIDOS E INVÁLIDOS"
   ]
  },
  {
   "cell_type": "code",
   "execution_count": 272,
   "id": "223f8b18",
   "metadata": {},
   "outputs": [
    {
     "data": {
      "text/plain": [
       "5000"
      ]
     },
     "execution_count": 272,
     "metadata": {},
     "output_type": "execute_result"
    }
   ],
   "source": [
    "count_cpf_valido = get_count_cpf_valido(df_csv_norm)\n",
    "count_cpf_valido"
   ]
  },
  {
   "cell_type": "code",
   "execution_count": 273,
   "id": "e1dd2ca6",
   "metadata": {},
   "outputs": [
    {
     "data": {
      "text/plain": [
       "5000"
      ]
     },
     "execution_count": 273,
     "metadata": {},
     "output_type": "execute_result"
    }
   ],
   "source": [
    "count_cpf_invalido = get_count_cpf_invalido(df_csv_norm)\n",
    "count_cpf_invalido"
   ]
  },
  {
   "cell_type": "markdown",
   "id": "e1052ecf",
   "metadata": {},
   "source": [
    "##### 5) QUANTIDADE DE CNPJ VÁLIDOS E INVÁLIDOS"
   ]
  },
  {
   "cell_type": "code",
   "execution_count": 274,
   "id": "8d93c1e8",
   "metadata": {},
   "outputs": [
    {
     "data": {
      "text/plain": [
       "5000"
      ]
     },
     "execution_count": 274,
     "metadata": {},
     "output_type": "execute_result"
    }
   ],
   "source": [
    "count_cnpj_valido = get_count_cnpj_valido(df_csv_norm)\n",
    "count_cnpj_valido"
   ]
  },
  {
   "cell_type": "code",
   "execution_count": 275,
   "id": "9ce8e117",
   "metadata": {},
   "outputs": [
    {
     "data": {
      "text/plain": [
       "5000"
      ]
     },
     "execution_count": 275,
     "metadata": {},
     "output_type": "execute_result"
    }
   ],
   "source": [
    "count_cnpj_invalido = get_count_cnpj_invalido(df_csv_norm)\n",
    "count_cnpj_invalido"
   ]
  },
  {
   "cell_type": "markdown",
   "id": "a2da9c40",
   "metadata": {},
   "source": [
    "**Problema 2**: Você deverá implementar um programa, para ler, tratar e particionar os dados.\n",
    "\n",
    "O arquivo fonte está disponível em `https://st-it-cloud-public.s3.amazonaws.com/people-v2_1E6.csv.gz`\n",
    "\n",
    "### Data Quality\n",
    "\n",
    "- Higienizar e homogenizar o formato da coluna `document`\n",
    "- Detectar através da coluna `document` se o registro é de uma Pessoa Física ou Pessoa Jurídica, adicionando uma coluna com essa informação\n",
    "- Higienizar e homogenizar o formato da coluna `birthDate`\n",
    "- Existem duas colunas nesse dataset que em alguns registros estão trocadas. Quais são essas colunas? \n",
    "- Corrigir os dados com as colunas trocadas\n",
    "- Além desses pontos, existem outras tratamentos para homogenizar esse dataset. Aplique todos que conseguir.\n",
    "\n",
    "### Agregação dos dados\n",
    "\n",
    "- Quais são as 5 PF que mais gastaram (`totalSpent`)? \n",
    "- Qual é o valor de gasto médio por estado (`state`)?\n",
    "- Qual é o valor de gasto médio por `jobArea`?\n",
    "- Qual é a PF que gastou menos (`totalSpent`)?\n",
    "- Quantos nomes e documentos repetidos existem nesse dataset?\n",
    "- Quantas linhas existem nesse dataset?\n",
    "\n",
    "### Particionamento de dados tratados com as regras descritas em `DATA QUALITY`\n",
    "\n",
    "- Particionar em arquivos PARQUET por estado (`state`)\n",
    "- Particionar em arquivos CSV por ano/mes/dia de nascimento (`birthDate`)"
   ]
  },
  {
   "cell_type": "code",
   "execution_count": null,
   "id": "2277f816",
   "metadata": {},
   "outputs": [],
   "source": []
  }
 ],
 "metadata": {
  "kernelspec": {
   "display_name": "Python 3.10.4 64-bit",
   "language": "python",
   "name": "python3"
  },
  "language_info": {
   "codemirror_mode": {
    "name": "ipython",
    "version": 3
   },
   "file_extension": ".py",
   "mimetype": "text/x-python",
   "name": "python",
   "nbconvert_exporter": "python",
   "pygments_lexer": "ipython3",
   "version": "3.10.4"
  },
  "vscode": {
   "interpreter": {
    "hash": "5b2392f291b271a5c0424aec94122454eb3da54a50e0352179bee04ea56830c1"
   }
  }
 },
 "nbformat": 4,
 "nbformat_minor": 5
}
